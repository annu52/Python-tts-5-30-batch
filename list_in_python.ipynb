{
 "metadata": {
  "language_info": {
   "codemirror_mode": {
    "name": "ipython",
    "version": 3
   },
   "file_extension": ".py",
   "mimetype": "text/x-python",
   "name": "python",
   "nbconvert_exporter": "python",
   "pygments_lexer": "ipython3",
   "version": "3.8.3-final"
  },
  "orig_nbformat": 2,
  "kernelspec": {
   "name": "Python 3.8.3 64-bit",
   "display_name": "Python 3.8.3 64-bit",
   "metadata": {
    "interpreter": {
     "hash": "9ad268fd485861c22c359044ed3ddbe8fb481338325f6875a93294b1083849ba"
    }
   }
  }
 },
 "nbformat": 4,
 "nbformat_minor": 2,
 "cells": [
  {
   "source": [
    "### data structures\n",
    "- LIST              `[ ]`\n",
    "- TUPLE             `( )`\n",
    "- SET               `{ }`\n",
    "- DICTIONARY        `{ }`"
   ],
   "cell_type": "markdown",
   "metadata": {}
  },
  {
   "source": [
    "list => `[1,2,3,4,5,'apple',True,'banana']`\n",
    "- indexed and ordered\n",
    "- dynamic and heterogenous\n",
    "- values can be duplicated\n",
    "- can be nested\n",
    "- represented by `[ ]`\n",
    "- has a function `list( )` "
   ],
   "cell_type": "markdown",
   "metadata": {}
  },
  {
   "source": [
    "# what u need to learn\n",
    "- creation N looping\n",
    "- indexing\n",
    "- slicing\n",
    "- function\n",
    "- comprehension"
   ],
   "cell_type": "markdown",
   "metadata": {}
  },
  {
   "source": [
    "# creation N looping"
   ],
   "cell_type": "markdown",
   "metadata": {}
  },
  {
   "cell_type": "code",
   "execution_count": 3,
   "metadata": {},
   "outputs": [],
   "source": [
    "x = [1,2,3,4,5]                                         # number only\n",
    "names= ['prakhar','kumkum','aqdas','ayush','anuu']      # strings only\n",
    "mixed_data = ['tomato',20,'potato',50,'brinjal',10]     # mixed content\n",
    "marks = [[10,3,4],[9,7,8],[10,10,2]]                    # nested list\n",
    "y = []                                                  # empty list"
   ]
  },
  {
   "cell_type": "code",
   "execution_count": 4,
   "metadata": {
    "tags": []
   },
   "outputs": [
    {
     "output_type": "stream",
     "name": "stdout",
     "text": "1\n2\n3\n4\n5\n"
    }
   ],
   "source": [
    "for i in x:\n",
    "    print(i)"
   ]
  },
  {
   "cell_type": "code",
   "execution_count": 5,
   "metadata": {
    "tags": []
   },
   "outputs": [
    {
     "output_type": "stream",
     "name": "stdout",
     "text": "prakhar\nkumkum\naqdas\nayush\nanuu\n"
    }
   ],
   "source": [
    "for nm in names:\n",
    "    print(nm)"
   ]
  },
  {
   "cell_type": "code",
   "execution_count": 6,
   "metadata": {
    "tags": []
   },
   "outputs": [
    {
     "output_type": "stream",
     "name": "stdout",
     "text": "tomato\n20\npotato\n50\nbrinjal\n10\n"
    }
   ],
   "source": [
    "for data in mixed_data:\n",
    "    print(data)"
   ]
  },
  {
   "cell_type": "code",
   "execution_count": 7,
   "metadata": {
    "tags": []
   },
   "outputs": [
    {
     "output_type": "stream",
     "name": "stdout",
     "text": "[[10, 3, 4], [9, 7, 8], [10, 10, 2]]\n"
    }
   ],
   "source": [
    "print(marks)"
   ]
  },
  {
   "cell_type": "code",
   "execution_count": 8,
   "metadata": {},
   "outputs": [
    {
     "output_type": "execute_result",
     "data": {
      "text/plain": "[&#39;tomato&#39;, 20, &#39;potato&#39;, 50, &#39;brinjal&#39;, 10]"
     },
     "metadata": {},
     "execution_count": 8
    }
   ],
   "source": [
    "mixed_data"
   ]
  },
  {
   "source": [
    "# indexing"
   ],
   "cell_type": "markdown",
   "metadata": {}
  },
  {
   "cell_type": "code",
   "execution_count": 10,
   "metadata": {},
   "outputs": [
    {
     "output_type": "execute_result",
     "data": {
      "text/plain": "[&#39;prakhar&#39;, &#39;kumkum&#39;, &#39;aqdas&#39;, &#39;ayush&#39;, &#39;anuu&#39;]"
     },
     "metadata": {},
     "execution_count": 10
    }
   ],
   "source": [
    "names"
   ]
  },
  {
   "cell_type": "code",
   "execution_count": 11,
   "metadata": {},
   "outputs": [
    {
     "output_type": "execute_result",
     "data": {
      "text/plain": "&#39;prakhar&#39;"
     },
     "metadata": {},
     "execution_count": 11
    }
   ],
   "source": [
    "names[0]"
   ]
  },
  {
   "cell_type": "code",
   "execution_count": 12,
   "metadata": {},
   "outputs": [
    {
     "output_type": "execute_result",
     "data": {
      "text/plain": "&#39;ayush&#39;"
     },
     "metadata": {},
     "execution_count": 12
    }
   ],
   "source": [
    "names[3]"
   ]
  },
  {
   "cell_type": "code",
   "execution_count": 13,
   "metadata": {},
   "outputs": [
    {
     "output_type": "execute_result",
     "data": {
      "text/plain": "&#39;anuu&#39;"
     },
     "metadata": {},
     "execution_count": 13
    }
   ],
   "source": [
    "names[-1]"
   ]
  },
  {
   "cell_type": "code",
   "execution_count": 14,
   "metadata": {},
   "outputs": [
    {
     "output_type": "execute_result",
     "data": {
      "text/plain": "&#39;prakhar&#39;"
     },
     "metadata": {},
     "execution_count": 14
    }
   ],
   "source": [
    "names[-5]"
   ]
  },
  {
   "cell_type": "code",
   "execution_count": 15,
   "metadata": {},
   "outputs": [
    {
     "output_type": "error",
     "ename": "IndexError",
     "evalue": "list index out of range",
     "traceback": [
      "\u001b[1;31m---------------------------------------------------------------------------\u001b[0m",
      "\u001b[1;31mIndexError\u001b[0m                                Traceback (most recent call last)",
      "\u001b[1;32m&lt;ipython-input-15-f29237377a3d&gt;\u001b[0m in \u001b[0;36m&lt;module&gt;\u001b[1;34m\u001b[0m\n\u001b[1;32m----&gt; 1\u001b[1;33m \u001b[0mnames\u001b[0m\u001b[1;33m[\u001b[0m\u001b[1;36m10\u001b[0m\u001b[1;33m]\u001b[0m\u001b[1;33m\u001b[0m\u001b[1;33m\u001b[0m\u001b[0m\n\u001b[0m",
      "\u001b[1;31mIndexError\u001b[0m: list index out of range"
     ]
    }
   ],
   "source": [
    "names[10]"
   ]
  },
  {
   "cell_type": "code",
   "execution_count": 16,
   "metadata": {
    "tags": []
   },
   "outputs": [
    {
     "output_type": "stream",
     "name": "stdout",
     "text": "[&#39;Shivam&#39;, &#39;kumkum&#39;, &#39;aqdas&#39;, &#39;ayush&#39;, &#39;anuu&#39;]\n"
    }
   ],
   "source": [
    "# we can update the valus at any index in a list -> mutable\n",
    "names[0] = 'Shivam'\n",
    "print(names)"
   ]
  },
  {
   "cell_type": "code",
   "execution_count": 25,
   "metadata": {},
   "outputs": [],
   "source": [
    "movies = [\n",
    "    'Shazam',\n",
    "    'Iron Man',\n",
    "    'Justice league',\n",
    "    'Avengers',\n",
    "    'Thor',\n",
    "    'Veer',\n",
    "    'Koi mil gya',\n",
    "    'Venom',\n",
    "    'Race',\n",
    "    'Transformers',\n",
    "]"
   ]
  },
  {
   "cell_type": "code",
   "execution_count": 26,
   "metadata": {},
   "outputs": [
    {
     "output_type": "execute_result",
     "data": {
      "text/plain": "True"
     },
     "metadata": {},
     "execution_count": 26
    }
   ],
   "source": [
    "len(movies) == 10"
   ]
  },
  {
   "cell_type": "code",
   "execution_count": 27,
   "metadata": {},
   "outputs": [
    {
     "output_type": "execute_result",
     "data": {
      "text/plain": "&#39;avengers&#39;"
     },
     "metadata": {},
     "execution_count": 27
    }
   ],
   "source": [
    "max(movies)"
   ]
  },
  {
   "cell_type": "code",
   "execution_count": 23,
   "metadata": {},
   "outputs": [
    {
     "output_type": "execute_result",
     "data": {
      "text/plain": "&#39;Avengers&#39;"
     },
     "metadata": {},
     "execution_count": 23
    }
   ],
   "source": [
    "min(movies)"
   ]
  },
  {
   "cell_type": "code",
   "execution_count": 24,
   "metadata": {},
   "outputs": [
    {
     "output_type": "execute_result",
     "data": {
      "text/plain": "[&#39;Avengers&#39;,\n &#39;Iron Man&#39;,\n &#39;Justice league&#39;,\n &#39;Koi mil gya&#39;,\n &#39;Race&#39;,\n &#39;Shazam&#39;,\n &#39;Thor&#39;,\n &#39;Transformers&#39;,\n &#39;Veer&#39;,\n &#39;Venom&#39;]"
     },
     "metadata": {},
     "execution_count": 24
    }
   ],
   "source": [
    "sorted(movies)"
   ]
  },
  {
   "cell_type": "code",
   "execution_count": 30,
   "metadata": {},
   "outputs": [
    {
     "output_type": "execute_result",
     "data": {
      "text/plain": "1837"
     },
     "metadata": {},
     "execution_count": 30
    }
   ],
   "source": [
    "x = [2,3,32,1233,123,123,321,]\n",
    "sum(x)"
   ]
  },
  {
   "cell_type": "code",
   "execution_count": null,
   "metadata": {},
   "outputs": [],
   "source": []
  }
 ]
}