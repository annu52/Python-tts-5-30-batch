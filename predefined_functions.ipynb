{
 "metadata": {
  "language_info": {
   "codemirror_mode": {
    "name": "ipython",
    "version": 3
   },
   "file_extension": ".py",
   "mimetype": "text/x-python",
   "name": "python",
   "nbconvert_exporter": "python",
   "pygments_lexer": "ipython3",
   "version": "3.8.3-final"
  },
  "orig_nbformat": 2,
  "kernelspec": {
   "name": "Python 3.8.3 64-bit",
   "display_name": "Python 3.8.3 64-bit",
   "metadata": {
    "interpreter": {
     "hash": "9ad268fd485861c22c359044ed3ddbe8fb481338325f6875a93294b1083849ba"
    }
   }
  }
 },
 "nbformat": 4,
 "nbformat_minor": 2,
 "cells": [
  {
   "source": [
    "# predefined functions in python"
   ],
   "cell_type": "markdown",
   "metadata": {}
  },
  {
   "source": [
    "## builtin functions\n",
    "these are automatically loaded in python when you run your code\n",
    "- popular builtin functions are\n",
    "    - print\n",
    "    - input\n",
    "    - sum - add all elements in a numeric list/tuple/set\n",
    "    - max - find the maximum in a list/tuple/set\n",
    "    - open - open files as object in python\n",
    "    - len \n",
    "    - type\n",
    "    - isinstance - for checking the datatype in if conditions\n",
    "    - eval - handle expression in string and process them\n",
    "    - map - used for performing same operation on multiple items in an iterator\n",
    "    - int - used for converting values to int data type\n",
    "- check all the builtin functions\n",
    "    - https://docs.python.org/3/library/functions.html   "
   ],
   "cell_type": "markdown",
   "metadata": {}
  },
  {
   "cell_type": "code",
   "execution_count": 2,
   "metadata": {},
   "outputs": [
    {
     "output_type": "stream",
     "name": "stdout",
     "text": [
      "x is a list\n"
     ]
    }
   ],
   "source": [
    "x = [1,2,3,4]\n",
    "if isinstance(x, list):\n",
    "    print('x is a list')"
   ]
  },
  {
   "cell_type": "code",
   "execution_count": 3,
   "metadata": {},
   "outputs": [
    {
     "output_type": "stream",
     "name": "stdout",
     "text": [
      "10\n"
     ]
    }
   ],
   "source": [
    "total = sum(x)\n",
    "print(total)"
   ]
  },
  {
   "cell_type": "code",
   "execution_count": 5,
   "metadata": {},
   "outputs": [
    {
     "output_type": "stream",
     "name": "stdout",
     "text": [
      "4\n"
     ]
    }
   ],
   "source": [
    "value =  max(x)\n",
    "print(value)"
   ]
  },
  {
   "cell_type": "code",
   "execution_count": 7,
   "metadata": {},
   "outputs": [
    {
     "output_type": "execute_result",
     "data": {
      "text/plain": [
       "'pineapple'"
      ]
     },
     "metadata": {},
     "execution_count": 7
    }
   ],
   "source": [
    "a = ['apple','cidar','grapes','pineapple']\n",
    "max(a) # find the element with highest alphabetical"
   ]
  },
  {
   "cell_type": "code",
   "execution_count": 10,
   "metadata": {},
   "outputs": [
    {
     "output_type": "execute_result",
     "data": {
      "text/plain": [
       "9"
      ]
     },
     "metadata": {},
     "execution_count": 10
    }
   ],
   "source": [
    "x = 1\n",
    "y = 2\n",
    "eq = \"x**2 + y**2 + 2*x*y\"\n",
    "eval(eq)"
   ]
  },
  {
   "source": [
    "## module based functions\n",
    "modules are needed to be imported in code and then we can use the functions inside those modules\n",
    "available modules - https://docs.python.org/3/py-modindex.html \n",
    "\n",
    "- os\n",
    "    - listdir\n",
    "    - getcwd\n",
    "    - path.join\n",
    "    - path.exists\n",
    "    - chdir\n",
    "    - mkdir\n",
    "    - path.isfile\n",
    "    - path.isdir\n",
    "    - path.getsize\n",
    "- math\n",
    "    - floor\n",
    "    - ceiling\n",
    "    - abs\n",
    "    - fabs\n",
    "    - log\n",
    "- random \n",
    "    - random\n",
    "    - rand\n",
    "    - randint\n",
    "    - randrange\n",
    "    - choice\n"
   ],
   "cell_type": "markdown",
   "metadata": {}
  },
  {
   "source": [
    "### os modules"
   ],
   "cell_type": "markdown",
   "metadata": {}
  },
  {
   "cell_type": "code",
   "execution_count": 16,
   "metadata": {},
   "outputs": [
    {
     "output_type": "stream",
     "name": "stdout",
     "text": [
      "['.git', 'list_in_python.ipynb', 'predefined_functions.ipynb', 'string_functions.ipynb']\n"
     ]
    }
   ],
   "source": [
    "folder_data = os.listdir()\n",
    "print(folder_data)"
   ]
  },
  {
   "cell_type": "code",
   "execution_count": 17,
   "metadata": {},
   "outputs": [
    {
     "output_type": "stream",
     "name": "stdout",
     "text": [
      "['$Recycle.Bin', '$WinREAgent', 'Documents and Settings', 'DumpStack.log', 'DumpStack.log.tmp', 'hiberfil.sys', 'NVIDIA Corporation', 'OneDriveTemp', 'pagefile.sys', 'PerfLogs', 'Program Files', 'Program Files (x86)', 'ProgramData', 'Recovery', 'swapfile.sys', 'System Volume Information', 'tweaks', 'Users', 'Windows', 'xampp']\n"
     ]
    }
   ],
   "source": [
    "folder_data = os.listdir('C:/')\n",
    "print(folder_data)"
   ]
  },
  {
   "cell_type": "code",
   "execution_count": 18,
   "metadata": {},
   "outputs": [
    {
     "output_type": "stream",
     "name": "stdout",
     "text": [
      "['Adobe', 'Blender Foundation', 'Common Files', 'DAUM', 'desktop.ini', 'Fing', 'Git', 'Helm', 'heroku', 'Internet Explorer', 'Microsoft Office', 'Microsoft Office 15', 'ModifiableWindowsApps', 'MSBuild', 'NewTek', 'NVIDIA Corporation', 'obs-studio', 'PackageManagement', 'Realtek', 'Reference Assemblies', 'Riot Vanguard', 'ShareX', 'Steinberg', 'Streamlabs OBS', 'Uninstall Information', 'VB', 'Windows Defender', 'Windows Defender Advanced Threat Protection', 'Windows Mail', 'Windows Multimedia Platform', 'Windows NT', 'Windows Photo Viewer', 'Windows Portable Devices', 'Windows Security', 'Windows Sidebar', 'WindowsApps', 'WindowsPowerShell', 'WinPcap', 'WinRAR']\n"
     ]
    }
   ],
   "source": [
    "folder_data = os.listdir('C:/Program Files')\n",
    "print(folder_data)"
   ]
  },
  {
   "cell_type": "code",
   "execution_count": 19,
   "metadata": {},
   "outputs": [
    {
     "output_type": "stream",
     "name": "stdout",
     "text": [
      "c:\\Users\\xaidi\\OneDrive\\Documents\\Python-tts-5-30-batch\n"
     ]
    }
   ],
   "source": [
    "current_dir = os.getcwd()\n",
    "print(current_dir)"
   ]
  },
  {
   "cell_type": "code",
   "execution_count": 29,
   "metadata": {},
   "outputs": [
    {
     "output_type": "stream",
     "name": "stdout",
     "text": [
      "E:\\\\uploads\\happy.png\n"
     ]
    }
   ],
   "source": [
    "file = 'happy.png'\n",
    "folder = 'uploads'\n",
    "drive = 'E:\\\\'\n",
    "# we dont use this way of creating a dynamic address\n",
    "fulladdress = drive + '\\\\' + folder+'\\\\' + file  # windows\n",
    "fulladdresslx = drive + '/' + folder+'/' + file  # mac or linux\n",
    "print(fulladdress)"
   ]
  },
  {
   "cell_type": "code",
   "execution_count": 30,
   "metadata": {},
   "outputs": [
    {
     "output_type": "stream",
     "name": "stdout",
     "text": [
      "E:\\uploads\\happy.png\n"
     ]
    }
   ],
   "source": [
    "addr = os.path.join(drive,folder,file)\n",
    "print(addr)"
   ]
  },
  {
   "cell_type": "code",
   "execution_count": 31,
   "metadata": {},
   "outputs": [
    {
     "output_type": "stream",
     "text": [
      "\u001b[1;31mSignature:\u001b[0m \u001b[0mos\u001b[0m\u001b[1;33m.\u001b[0m\u001b[0mpath\u001b[0m\u001b[1;33m.\u001b[0m\u001b[0mexists\u001b[0m\u001b[1;33m(\u001b[0m\u001b[0mpath\u001b[0m\u001b[1;33m)\u001b[0m\u001b[1;33m\u001b[0m\u001b[1;33m\u001b[0m\u001b[0m\n",
      "\u001b[1;31mDocstring:\u001b[0m Test whether a path exists.  Returns False for broken symbolic links\n",
      "\u001b[1;31mFile:\u001b[0m      c:\\users\\xaidi\\appdata\\local\\programs\\python\\python38\\lib\\genericpath.py\n",
      "\u001b[1;31mType:\u001b[0m      function\n"
     ],
     "name": "stdout"
    }
   ],
   "source": [
    "# how to know what the function does\n",
    "os.path.exists?"
   ]
  },
  {
   "cell_type": "code",
   "execution_count": 32,
   "metadata": {},
   "outputs": [
    {
     "output_type": "stream",
     "text": [
      "\u001b[1;31mSignature:\u001b[0m \u001b[0mos\u001b[0m\u001b[1;33m.\u001b[0m\u001b[0mchdir\u001b[0m\u001b[1;33m(\u001b[0m\u001b[0mpath\u001b[0m\u001b[1;33m)\u001b[0m\u001b[1;33m\u001b[0m\u001b[1;33m\u001b[0m\u001b[0m\n",
      "\u001b[1;31mDocstring:\u001b[0m\n",
      "Change the current working directory to the specified path.\n",
      "\n",
      "path may always be specified as a string.\n",
      "On some platforms, path may also be specified as an open file descriptor.\n",
      "  If this functionality is unavailable, using it raises an exception.\n",
      "\u001b[1;31mType:\u001b[0m      builtin_function_or_method\n"
     ],
     "name": "stdout"
    }
   ],
   "source": [
    "os.chdir?"
   ]
  },
  {
   "cell_type": "code",
   "execution_count": 33,
   "metadata": {},
   "outputs": [
    {
     "output_type": "execute_result",
     "data": {
      "text/plain": [
       "False"
      ]
     },
     "metadata": {},
     "execution_count": 33
    }
   ],
   "source": [
    "os.path.exists(addr)"
   ]
  },
  {
   "cell_type": "code",
   "execution_count": 34,
   "metadata": {},
   "outputs": [
    {
     "output_type": "execute_result",
     "data": {
      "text/plain": [
       "True"
      ]
     },
     "metadata": {},
     "execution_count": 34
    }
   ],
   "source": [
    "os.path.exists(current_dir)"
   ]
  },
  {
   "cell_type": "code",
   "execution_count": 38,
   "metadata": {},
   "outputs": [
    {
     "output_type": "stream",
     "name": "stdout",
     "text": [
      "yes folder found\n"
     ]
    }
   ],
   "source": [
    "if os.path.exists(\"E:/videos\"):\n",
    "    print('yes folder found')\n",
    "else:\n",
    "    print('folder missing')"
   ]
  },
  {
   "cell_type": "code",
   "execution_count": null,
   "metadata": {},
   "outputs": [],
   "source": [
    "pr"
   ]
  }
 ]
}