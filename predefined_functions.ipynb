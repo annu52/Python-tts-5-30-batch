{
 "metadata": {
  "language_info": {
   "codemirror_mode": {
    "name": "ipython",
    "version": 3
   },
   "file_extension": ".py",
   "mimetype": "text/x-python",
   "name": "python",
   "nbconvert_exporter": "python",
   "pygments_lexer": "ipython3",
   "version": "3.8.3-final"
  },
  "orig_nbformat": 2,
  "kernelspec": {
   "name": "Python 3.8.3 64-bit",
   "display_name": "Python 3.8.3 64-bit",
   "metadata": {
    "interpreter": {
     "hash": "9ad268fd485861c22c359044ed3ddbe8fb481338325f6875a93294b1083849ba"
    }
   }
  }
 },
 "nbformat": 4,
 "nbformat_minor": 2,
 "cells": [
  {
   "source": [
    "# predefined functions in python"
   ],
   "cell_type": "markdown",
   "metadata": {}
  },
  {
   "source": [
    "## builtin functions\n",
    "these are automatically loaded in python when you run your code\n",
    "- popular builtin functions are\n",
    "    - print\n",
    "    - input\n",
    "    - sum - add all elements in a numeric list/tuple/set\n",
    "    - max - find the maximum in a list/tuple/set\n",
    "    - open - open files as object in python\n",
    "    - len \n",
    "    - type\n",
    "    - isinstance - for checking the datatype in if conditions\n",
    "    - eval - handle expression in string and process them\n",
    "    - map - used for performing same operation on multiple items in an iterator\n",
    "    - int - used for converting values to int data type\n",
    "- check all the builtin functions\n",
    "    - https://docs.python.org/3/library/functions.html   "
   ],
   "cell_type": "markdown",
   "metadata": {}
  },
  {
   "cell_type": "code",
   "execution_count": 2,
   "metadata": {},
   "outputs": [
    {
     "output_type": "stream",
     "name": "stdout",
     "text": [
      "x is a list\n"
     ]
    }
   ],
   "source": [
    "x = [1,2,3,4]\n",
    "if isinstance(x, list):\n",
    "    print('x is a list')"
   ]
  },
  {
   "cell_type": "code",
   "execution_count": 3,
   "metadata": {},
   "outputs": [
    {
     "output_type": "stream",
     "name": "stdout",
     "text": [
      "10\n"
     ]
    }
   ],
   "source": [
    "total = sum(x)\n",
    "print(total)"
   ]
  },
  {
   "cell_type": "code",
   "execution_count": 5,
   "metadata": {},
   "outputs": [
    {
     "output_type": "stream",
     "name": "stdout",
     "text": [
      "4\n"
     ]
    }
   ],
   "source": [
    "value =  max(x)\n",
    "print(value)"
   ]
  },
  {
   "cell_type": "code",
   "execution_count": 7,
   "metadata": {},
   "outputs": [
    {
     "output_type": "execute_result",
     "data": {
      "text/plain": [
       "'pineapple'"
      ]
     },
     "metadata": {},
     "execution_count": 7
    }
   ],
   "source": [
    "a = ['apple','cidar','grapes','pineapple']\n",
    "max(a) # find the element with highest alphabetical"
   ]
  },
  {
   "cell_type": "code",
   "execution_count": 10,
   "metadata": {},
   "outputs": [
    {
     "output_type": "execute_result",
     "data": {
      "text/plain": [
       "9"
      ]
     },
     "metadata": {},
     "execution_count": 10
    }
   ],
   "source": [
    "x = 1\n",
    "y = 2\n",
    "eq = \"x**2 + y**2 + 2*x*y\"\n",
    "eval(eq)"
   ]
  },
  {
   "source": [
    "## module based functions\n",
    "modules are needed to be imported in code and then we can use the functions inside those modules\n",
    "available modules - https://docs.python.org/3/py-modindex.html \n",
    "\n",
    "- os\n",
    "    - listdir\n",
    "    - getcwd\n",
    "    - path.join\n",
    "    - path.exists\n",
    "    - chdir\n",
    "    - mkdir\n",
    "    - path.isfile\n",
    "    - path.isdir\n",
    "    - path.getsize\n",
    "- math\n",
    "    - floor\n",
    "    - ceiling\n",
    "    - abs\n",
    "    - fabs\n",
    "    - log\n",
    "- random \n",
    "    - random\n",
    "    - rand\n",
    "    - randint\n",
    "    - randrange\n",
    "    - choice\n"
   ],
   "cell_type": "markdown",
   "metadata": {}
  },
  {
   "source": [
    "### os modules"
   ],
   "cell_type": "markdown",
   "metadata": {}
  },
  {
   "cell_type": "code",
   "execution_count": 11,
   "metadata": {},
   "outputs": [],
   "source": [
    "import os"
   ]
  },
  {
   "cell_type": "code",
   "execution_count": 12,
   "metadata": {},
   "outputs": [
    {
     "output_type": "stream",
     "name": "stdout",
     "text": [
      "['.git', '.vscode', 'debug.log', 'list_in_python.ipynb', 'predefined_functions.ipynb', 'string_functions.ipynb']\n"
     ]
    }
   ],
   "source": [
    "folder_data = os.listdir()\n",
    "print(folder_data)"
   ]
  },
  {
   "cell_type": "code",
   "execution_count": 13,
   "metadata": {},
   "outputs": [
    {
     "output_type": "stream",
     "name": "stdout",
     "text": [
      "['$Recycle.Bin', '$WinREAgent', 'bootTel.dat', 'Documents and Settings', 'DumpStack.log', 'DumpStack.log.tmp', 'hiberfil.sys', 'Intel', 'OneDriveTemp', 'pagefile.sys', 'PerfLogs', 'Program Files', 'Program Files (x86)', 'ProgramData', 'Recovery', 'swapfile.sys', 'System Volume Information', 'Users', 'Windows', 'xampp', 'xampp2']\n"
     ]
    }
   ],
   "source": [
    "folder_data = os.listdir('C:/')\n",
    "print(folder_data)"
   ]
  },
  {
   "cell_type": "code",
   "execution_count": 14,
   "metadata": {},
   "outputs": [
    {
     "output_type": "stream",
     "name": "stdout",
     "text": [
      "['Adobe', 'Android', 'Bonjour', 'Common Files', 'Cyberduck', 'desktop.ini', 'Epic Games', 'Git', 'Intel', 'Internet Explorer', 'Microsoft Office', 'Microsoft Office 15', 'Microsoft VS Code', 'ModifiableWindowsApps', 'MSBuild', 'NVIDIA Corporation', 'PackageManagement', 'Realtek', 'Reference Assemblies', 'Synaptics', 'Uninstall Information', 'Windows Defender', 'Windows Defender Advanced Threat Protection', 'Windows Mail', 'Windows Media Player', 'Windows Multimedia Platform', 'Windows NT', 'Windows Photo Viewer', 'Windows Portable Devices', 'Windows Security', 'Windows Sidebar', 'WindowsApps', 'WindowsPowerShell', 'WinRAR']\n"
     ]
    }
   ],
   "source": [
    "folder_data = os.listdir('C:/Program Files')\n",
    "print(folder_data)"
   ]
  },
  {
   "cell_type": "code",
   "execution_count": 15,
   "metadata": {},
   "outputs": [
    {
     "output_type": "stream",
     "text": [
      "\u001b[1;31mSignature:\u001b[0m \u001b[0mos\u001b[0m\u001b[1;33m.\u001b[0m\u001b[0mgetcwd\u001b[0m\u001b[1;33m(\u001b[0m\u001b[1;33m)\u001b[0m\u001b[1;33m\u001b[0m\u001b[1;33m\u001b[0m\u001b[0m\n",
      "\u001b[1;31mDocstring:\u001b[0m Return a unicode string representing the current working directory.\n",
      "\u001b[1;31mType:\u001b[0m      builtin_function_or_method\n"
     ],
     "name": "stdout"
    }
   ],
   "source": [
    "os.getcwd?"
   ]
  },
  {
   "cell_type": "code",
   "execution_count": 16,
   "metadata": {},
   "outputs": [
    {
     "output_type": "stream",
     "name": "stdout",
     "text": [
      "c:\\Users\\xaidi\\Documents\\Python-tts-5-30-batch\n"
     ]
    }
   ],
   "source": [
    "current_dir = os.getcwd()\n",
    "print(current_dir)"
   ]
  },
  {
   "cell_type": "code",
   "execution_count": 17,
   "metadata": {},
   "outputs": [
    {
     "output_type": "stream",
     "name": "stdout",
     "text": [
      "E:\\\\uploads\\happy.png\n"
     ]
    }
   ],
   "source": [
    "file = 'happy.png'\n",
    "folder = 'uploads'\n",
    "drive = 'E:\\\\'\n",
    "# we dont use this way of creating a dynamic address\n",
    "fulladdress = drive + '\\\\' + folder+'\\\\' + file  # windows\n",
    "fulladdresslx = drive + '/' + folder+'/' + file  # mac or linux\n",
    "print(fulladdress)"
   ]
  },
  {
   "cell_type": "code",
   "execution_count": 18,
   "metadata": {},
   "outputs": [
    {
     "output_type": "stream",
     "name": "stdout",
     "text": [
      "E:\\uploads\\happy.png\n"
     ]
    }
   ],
   "source": [
    "addr = os.path.join(drive,folder,file)\n",
    "print(addr)"
   ]
  },
  {
   "cell_type": "code",
   "execution_count": 19,
   "metadata": {},
   "outputs": [
    {
     "output_type": "stream",
     "text": [
      "\u001b[1;31mSignature:\u001b[0m \u001b[0mos\u001b[0m\u001b[1;33m.\u001b[0m\u001b[0mpath\u001b[0m\u001b[1;33m.\u001b[0m\u001b[0mexists\u001b[0m\u001b[1;33m(\u001b[0m\u001b[0mpath\u001b[0m\u001b[1;33m)\u001b[0m\u001b[1;33m\u001b[0m\u001b[1;33m\u001b[0m\u001b[0m\n",
      "\u001b[1;31mDocstring:\u001b[0m Test whether a path exists.  Returns False for broken symbolic links\n",
      "\u001b[1;31mFile:\u001b[0m      c:\\users\\xaidi\\python38\\lib\\genericpath.py\n",
      "\u001b[1;31mType:\u001b[0m      function\n"
     ],
     "name": "stdout"
    }
   ],
   "source": [
    "# how to know what the function does\n",
    "os.path.exists?"
   ]
  },
  {
   "cell_type": "code",
   "execution_count": 20,
   "metadata": {},
   "outputs": [
    {
     "output_type": "stream",
     "text": [
      "\u001b[1;31mSignature:\u001b[0m \u001b[0mos\u001b[0m\u001b[1;33m.\u001b[0m\u001b[0mchdir\u001b[0m\u001b[1;33m(\u001b[0m\u001b[0mpath\u001b[0m\u001b[1;33m)\u001b[0m\u001b[1;33m\u001b[0m\u001b[1;33m\u001b[0m\u001b[0m\n",
      "\u001b[1;31mDocstring:\u001b[0m\n",
      "Change the current working directory to the specified path.\n",
      "\n",
      "path may always be specified as a string.\n",
      "On some platforms, path may also be specified as an open file descriptor.\n",
      "  If this functionality is unavailable, using it raises an exception.\n",
      "\u001b[1;31mType:\u001b[0m      builtin_function_or_method\n"
     ],
     "name": "stdout"
    }
   ],
   "source": [
    "os.chdir?"
   ]
  },
  {
   "cell_type": "code",
   "execution_count": 21,
   "metadata": {},
   "outputs": [
    {
     "output_type": "execute_result",
     "data": {
      "text/plain": [
       "False"
      ]
     },
     "metadata": {},
     "execution_count": 21
    }
   ],
   "source": [
    "os.path.exists(addr)"
   ]
  },
  {
   "cell_type": "code",
   "execution_count": 22,
   "metadata": {},
   "outputs": [
    {
     "output_type": "execute_result",
     "data": {
      "text/plain": [
       "True"
      ]
     },
     "metadata": {},
     "execution_count": 22
    }
   ],
   "source": [
    "os.path.exists(current_dir)"
   ]
  },
  {
   "cell_type": "code",
   "execution_count": 23,
   "metadata": {},
   "outputs": [
    {
     "output_type": "stream",
     "name": "stdout",
     "text": [
      "folder missing\n"
     ]
    }
   ],
   "source": [
    "if os.path.exists(\"E:/videos\"):\n",
    "    print('yes folder found')\n",
    "else:\n",
    "    print('folder missing')"
   ]
  },
  {
   "source": [
    "### wap to list all files from any folder address the user gives and display no of files in it"
   ],
   "cell_type": "markdown",
   "metadata": {}
  },
  {
   "cell_type": "code",
   "execution_count": 29,
   "metadata": {},
   "outputs": [
    {
     "output_type": "stream",
     "name": "stdout",
     "text": [
      "c:\\users\\xaidi\\documents\\My Music\nc:\\users\\xaidi\\documents\\My Pictures\nc:\\users\\xaidi\\documents\\My Videos\nc:\\users\\xaidi\\documents\\Python-tts-5-30-batch\nc:\\users\\xaidi\\documents\\sophomre_demo\ntotal files = 0\n"
     ]
    }
   ],
   "source": [
    "import os\n",
    "userpath =  input('enter any address:')\n",
    "if os.path.exists(userpath):\n",
    "    content = os.listdir(userpath)\n",
    "    cnt = 0\n",
    "    for item in content:\n",
    "        fullpath = os.path.join(userpath,item)\n",
    "        print(fullpath)\n",
    "        if os.path.isfile(fullpath):\n",
    "            cnt+=1\n",
    "    print(f'total files = {cnt}')\n",
    "else:\n",
    "    print(\"invalid address\")"
   ]
  },
  {
   "source": [
    "# can u wap to find the total folders and files in a user given address"
   ],
   "cell_type": "markdown",
   "metadata": {}
  },
  {
   "cell_type": "code",
   "execution_count": 31,
   "metadata": {},
   "outputs": [],
   "source": [
    "os.mkdir(\"important_folder\")"
   ]
  },
  {
   "cell_type": "code",
   "execution_count": 33,
   "metadata": {},
   "outputs": [
    {
     "output_type": "error",
     "ename": "FileExistsError",
     "evalue": "[WinError 183] Cannot create a file when that file already exists: 'crap_folder'",
     "traceback": [
      "\u001b[1;31m---------------------------------------------------------------------------\u001b[0m",
      "\u001b[1;31mFileExistsError\u001b[0m                           Traceback (most recent call last)",
      "\u001b[1;32m<ipython-input-33-62f749e13aef>\u001b[0m in \u001b[0;36m<module>\u001b[1;34m\u001b[0m\n\u001b[1;32m----> 1\u001b[1;33m \u001b[0mos\u001b[0m\u001b[1;33m.\u001b[0m\u001b[0mmkdir\u001b[0m\u001b[1;33m(\u001b[0m\u001b[1;34m\"crap_folder\"\u001b[0m\u001b[1;33m)\u001b[0m\u001b[1;33m\u001b[0m\u001b[1;33m\u001b[0m\u001b[0m\n\u001b[0m",
      "\u001b[1;31mFileExistsError\u001b[0m: [WinError 183] Cannot create a file when that file already exists: 'crap_folder'"
     ]
    }
   ],
   "source": [
    "os.mkdir(\"crap_folder\")"
   ]
  },
  {
   "cell_type": "code",
   "execution_count": 35,
   "metadata": {},
   "outputs": [],
   "source": [
    "if os.path.exists('crap_folder'):\n",
    "    print('folder h')\n",
    "else:\n",
    "    os.mkdir('crap_folder')"
   ]
  },
  {
   "cell_type": "code",
   "execution_count": 43,
   "metadata": {},
   "outputs": [],
   "source": [
    "os.mkdir('E:\\hello')"
   ]
  },
  {
   "cell_type": "code",
   "execution_count": 44,
   "metadata": {},
   "outputs": [
    {
     "output_type": "execute_result",
     "data": {
      "text/plain": [
       "['$RECYCLE.BIN',\n",
       " 'Arush COMP final.mov',\n",
       " 'Arush COMP.mov',\n",
       " 'hello',\n",
       " 'Microsoft.Office.Pro.Plus.2019.English.Retail.x64.16.0.10325.20118.iso',\n",
       " 'OFFICE19',\n",
       " 'sophomre_demo',\n",
       " 'System Volume Information']"
      ]
     },
     "metadata": {},
     "execution_count": 44
    }
   ],
   "source": [
    "os.listdir('E:')"
   ]
  },
  {
   "cell_type": "code",
   "execution_count": 45,
   "metadata": {},
   "outputs": [],
   "source": [
    "os.rmdir('E:\\hello') # only deletes empty folder"
   ]
  },
  {
   "cell_type": "code",
   "execution_count": 46,
   "metadata": {},
   "outputs": [
    {
     "output_type": "execute_result",
     "data": {
      "text/plain": [
       "['$RECYCLE.BIN',\n",
       " 'Arush COMP final.mov',\n",
       " 'Arush COMP.mov',\n",
       " 'Microsoft.Office.Pro.Plus.2019.English.Retail.x64.16.0.10325.20118.iso',\n",
       " 'OFFICE19',\n",
       " 'sophomre_demo',\n",
       " 'System Volume Information']"
      ]
     },
     "metadata": {},
     "execution_count": 46
    }
   ],
   "source": [
    "os.listdir('E:')"
   ]
  },
  {
   "cell_type": "code",
   "execution_count": 55,
   "metadata": {},
   "outputs": [
    {
     "output_type": "stream",
     "name": "stdout",
     "text": [
      "filesize => 8.8544921875 kilobytes\n"
     ]
    }
   ],
   "source": [
    "filesize = os.path.getsize('list_in_python.ipynb')\n",
    "print(f'filesize => {filesize/1024} kilobytes')"
   ]
  },
  {
   "source": [
    "# display the filesize of each file in a folder in KB, the folder path will be given by the user"
   ],
   "cell_type": "markdown",
   "metadata": {}
  },
  {
   "source": [
    "## math modules"
   ],
   "cell_type": "markdown",
   "metadata": {}
  },
  {
   "cell_type": "code",
   "execution_count": 2,
   "metadata": {},
   "outputs": [],
   "source": [
    "import math"
   ]
  },
  {
   "cell_type": "code",
   "execution_count": 5,
   "metadata": {},
   "outputs": [
    {
     "output_type": "execute_result",
     "data": {
      "text/plain": [
       "2"
      ]
     },
     "metadata": {},
     "execution_count": 5
    }
   ],
   "source": [
    "round(1.82312) # normal round of function"
   ]
  },
  {
   "cell_type": "code",
   "execution_count": 6,
   "metadata": {},
   "outputs": [
    {
     "output_type": "execute_result",
     "data": {
      "text/plain": [
       "1"
      ]
     },
     "metadata": {},
     "execution_count": 6
    }
   ],
   "source": [
    "int(1.7788) # similar effect"
   ]
  },
  {
   "cell_type": "code",
   "execution_count": 7,
   "metadata": {},
   "outputs": [
    {
     "output_type": "execute_result",
     "data": {
      "text/plain": [
       "37"
      ]
     },
     "metadata": {},
     "execution_count": 7
    }
   ],
   "source": [
    "math.floor(37.9) #  rounded to lower integer"
   ]
  },
  {
   "cell_type": "code",
   "execution_count": 9,
   "metadata": {},
   "outputs": [
    {
     "output_type": "execute_result",
     "data": {
      "text/plain": [
       "38"
      ]
     },
     "metadata": {},
     "execution_count": 9
    }
   ],
   "source": [
    "math.ceil(37.9)"
   ]
  },
  {
   "cell_type": "code",
   "execution_count": 8,
   "metadata": {},
   "outputs": [
    {
     "output_type": "execute_result",
     "data": {
      "text/plain": [
       "39"
      ]
     },
     "metadata": {},
     "execution_count": 8
    }
   ],
   "source": [
    "math.ceil(38.6) # rounded to upper integer"
   ]
  },
  {
   "cell_type": "code",
   "execution_count": 11,
   "metadata": {},
   "outputs": [
    {
     "output_type": "execute_result",
     "data": {
      "text/plain": [
       "1.23"
      ]
     },
     "metadata": {},
     "execution_count": 11
    }
   ],
   "source": [
    "abs(-1.23)"
   ]
  },
  {
   "cell_type": "code",
   "execution_count": 12,
   "metadata": {},
   "outputs": [
    {
     "output_type": "execute_result",
     "data": {
      "text/plain": [
       "1.23"
      ]
     },
     "metadata": {},
     "execution_count": 12
    }
   ],
   "source": [
    "math.fabs(-1.23)"
   ]
  },
  {
   "cell_type": "code",
   "execution_count": 15,
   "metadata": {},
   "outputs": [
    {
     "output_type": "execute_result",
     "data": {
      "text/plain": [
       "0.9092974268256817"
      ]
     },
     "metadata": {},
     "execution_count": 15
    }
   ],
   "source": [
    "math.sin(2)"
   ]
  },
  {
   "cell_type": "code",
   "execution_count": 16,
   "metadata": {},
   "outputs": [
    {
     "output_type": "execute_result",
     "data": {
      "text/plain": [
       "5.0"
      ]
     },
     "metadata": {},
     "execution_count": 16
    }
   ],
   "source": [
    "math.hypot(3,4)"
   ]
  },
  {
   "cell_type": "code",
   "execution_count": 17,
   "metadata": {},
   "outputs": [
    {
     "output_type": "execute_result",
     "data": {
      "text/plain": [
       "3.141592653589793"
      ]
     },
     "metadata": {},
     "execution_count": 17
    }
   ],
   "source": [
    "math.pi"
   ]
  },
  {
   "source": [
    "## random modules"
   ],
   "cell_type": "markdown",
   "metadata": {}
  },
  {
   "cell_type": "code",
   "execution_count": 18,
   "metadata": {},
   "outputs": [],
   "source": [
    "import random"
   ]
  },
  {
   "cell_type": "code",
   "execution_count": 25,
   "metadata": {},
   "outputs": [
    {
     "output_type": "execute_result",
     "data": {
      "text/plain": [
       "0.4309842105985865"
      ]
     },
     "metadata": {},
     "execution_count": 25
    }
   ],
   "source": [
    "random.random() # 0 .. 1 any number"
   ]
  },
  {
   "cell_type": "code",
   "execution_count": 26,
   "metadata": {},
   "outputs": [
    {
     "output_type": "execute_result",
     "data": {
      "text/plain": [
       "6"
      ]
     },
     "metadata": {},
     "execution_count": 26
    }
   ],
   "source": [
    "random.randint(1,10)"
   ]
  },
  {
   "cell_type": "code",
   "execution_count": 29,
   "metadata": {},
   "outputs": [
    {
     "output_type": "stream",
     "name": "stdout",
     "text": [
      "1\n6\n8\n1\n9\n9\n6\n9\n6\n2\n"
     ]
    }
   ],
   "source": [
    "for i in range(10):\n",
    "    print(random.randint(1,10))"
   ]
  },
  {
   "cell_type": "code",
   "execution_count": 37,
   "metadata": {},
   "outputs": [
    {
     "output_type": "stream",
     "name": "stdout",
     "text": [
      "[10, 2, 5, 2, 6, 7, 7, 9, 2, 6]\n"
     ]
    }
   ],
   "source": [
    "x = []\n",
    "for i in range(10):\n",
    "    x.append(random.randint(1,10))\n",
    "print(x)"
   ]
  },
  {
   "cell_type": "code",
   "execution_count": 39,
   "metadata": {},
   "outputs": [
    {
     "output_type": "execute_result",
     "data": {
      "text/plain": [
       "4"
      ]
     },
     "metadata": {},
     "execution_count": 39
    }
   ],
   "source": [
    "random.randrange(1,10)"
   ]
  },
  {
   "source": [
    "#### Q. diff in randrange and randint ?\n",
    "- randint takes 2 params and both are inclusive\n",
    "- randrange takes 2 params(start and end) and start is inclusive and end is exclsive\n"
   ],
   "cell_type": "markdown",
   "metadata": {}
  },
  {
   "cell_type": "code",
   "execution_count": 57,
   "metadata": {},
   "outputs": [
    {
     "output_type": "execute_result",
     "data": {
      "text/plain": [
       "12"
      ]
     },
     "metadata": {},
     "execution_count": 57
    }
   ],
   "source": [
    "random.choice([12,13,14,15])"
   ]
  },
  {
   "source": [
    "### wap to make a dice 🎲 simulator"
   ],
   "cell_type": "markdown",
   "metadata": {}
  },
  {
   "cell_type": "code",
   "execution_count": 71,
   "metadata": {},
   "outputs": [
    {
     "output_type": "stream",
     "name": "stdout",
     "text": [
      "🦠\nu win\n"
     ]
    }
   ],
   "source": [
    "dice = ['🦋','🐝','🐛','🦂','🦟','🦠']\n",
    "input('roll the dice: press enter')\n",
    "val = random.choice(dice)\n",
    "print(val)\n",
    "if val == '🦠':\n",
    "    print('u win')"
   ]
  },
  {
   "source": [
    "### making a mini game from random module"
   ],
   "cell_type": "markdown",
   "metadata": {}
  },
  {
   "cell_type": "code",
   "execution_count": 78,
   "metadata": {},
   "outputs": [
    {
     "output_type": "stream",
     "name": "stdout",
     "text": [
      "2 🐛 0 0\n",
      "2 🦠 0 1\n",
      "1 🐛 0 0\n",
      "2 🦂 0 0\n",
      "1 🐛 0 0\n",
      "2 🐝 0 0\n",
      "1 🦟 0 0\n",
      "2 🦋 0 0\n",
      "1 🐛 0 0\n",
      "1 🦠 1 0\n",
      "2 🦋 0 0\n",
      "1 🦟 0 0\n",
      "2 🦂 0 0\n",
      "1 🦂 0 0\n",
      "2 🐝 0 0\n",
      "1 🐝 0 0\n",
      "2 🐝 0 0\n",
      "1 🦋 0 0\n",
      "2 🦋 0 0\n",
      "1 🐝 0 0\n",
      "2 🦂 0 0\n",
      "1 🦋 0 0\n",
      "2 🦋 0 0\n",
      "2 🦠 0 1\n",
      "1 🐝 0 0\n",
      "2 🦋 0 0\n",
      "1 🐝 0 0\n",
      "2 🦂 0 0\n",
      "2 🦠 0 1\n",
      "1 🐝 0 0\n",
      "2 🐛 0 0\n",
      "1 🐛 0 0\n",
      "2 🐝 0 0\n",
      "1 🦂 0 0\n",
      "1 🦠 1 0\n",
      "2 🦋 0 0\n",
      "1 🦂 0 0\n",
      "2 🐝 0 0\n",
      "1 🐛 0 0\n",
      "2 🦋 0 0\n",
      "1 🐝 0 0\n",
      "2 🐝 0 0\n",
      "1 🦋 0 0\n",
      "2 🦟 0 0\n",
      "1 🦋 0 0\n",
      "2 🐛 0 0\n",
      "1 🦋 0 0\n",
      "2 🐛 0 0\n",
      "1 🐝 0 0\n",
      "2 🐛 0 0\n",
      "1 🐝 0 0\n",
      "2 🐝 0 0\n",
      "1 🦂 0 0\n",
      "2 🦂 0 0\n",
      "2 🦠 0 1\n",
      "1 🐝 0 0\n",
      "1 🦠 1 0\n",
      "2 🐛 0 0\n",
      "1 🦂 0 0\n",
      "2 🦟 0 0\n",
      "1 🐝 0 0\n",
      "1 🦠 1 0\n",
      "2 🦋 0 0\n",
      "1 🦋 0 0\n",
      "2 🦟 0 0\n",
      "1 🦋 0 0\n",
      "2 🐝 0 0\n",
      "1 🦂 0 0\n",
      "1 🦠 1 0\n",
      "2 🐛 0 0\n",
      "1 🐝 0 0\n",
      "2 🦟 0 0\n",
      "1 🐛 0 0\n",
      "2 🐛 0 0\n",
      "1 🦟 0 0\n",
      "2 🦂 0 0\n",
      "1 🦟 0 0\n",
      "2 🦋 0 0\n",
      "1 🦂 0 0\n",
      "2 🐛 0 0\n",
      "1 🦂 0 0\n",
      "2 🐝 0 0\n",
      "1 🐝 0 0\n",
      "2 🐛 0 0\n",
      "1 🦋 0 0\n",
      "2 🐝 0 0\n",
      "1 🐝 0 0\n",
      "2 🦋 0 0\n",
      "1 🐛 0 0\n",
      "2 🦂 0 0\n",
      "1 🦂 0 0\n",
      "2 🦟 0 0\n",
      "1 🦂 0 0\n",
      "2 🦂 0 0\n",
      "2 🦠 0 1\n",
      "1 🦟 0 0\n",
      "2 🦟 0 0\n",
      "2 🦠 0 1\n",
      "1 🦟 0 0\n",
      "1 🦠 1 0\n",
      "1 🦠 2 0\n",
      "aj wins\n"
     ]
    }
   ],
   "source": [
    "p1 = input('input player 1 name:')\n",
    "p2 = input('input player 2 name:')\n",
    "p1count = 0 # counts if player 1 gets a 🦠\n",
    "p2count = 0 # counts if player 2 gets a 🦠\n",
    "chance = 1 # variable to check whose change is this\n",
    "dice = ['🦋','🐝','🐛','🦂','🦟','🦠']\n",
    "while True:\n",
    "    if chance == 1:\n",
    "        x = input(f'{p1} chance -> press enter to roll dice')\n",
    "    else:\n",
    "        x = input(f'{p2} chance -> press enter to roll dice')\n",
    "    \n",
    "    val = random.choice(dice)\n",
    "    if val == '🦠':\n",
    "        if chance == 1:\n",
    "            p1count += 1\n",
    "        if chance == 2:\n",
    "            p2count += 1\n",
    "    else:\n",
    "        if chance == 1:\n",
    "            p1count = 0  # resets p1count \n",
    "            chance = 2\n",
    "        elif chance == 2:\n",
    "            p2count = 0  # resets p2count\n",
    "            chance = 1\n",
    "    print(chance, val,p1count, p2count)\n",
    "    \n",
    "    if p1count == 2:\n",
    "        print(f'{p1} wins')\n",
    "        break\n",
    "    elif p2count == 2:\n",
    "        print(f'{p1} wins')\n",
    "        break\n",
    "    \n",
    "\n",
    "\n"
   ]
  },
  {
   "source": [],
   "cell_type": "markdown",
   "metadata": {}
  }
 ]
}